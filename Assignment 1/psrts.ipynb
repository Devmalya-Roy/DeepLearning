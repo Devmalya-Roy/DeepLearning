{
 "cells": [
  {
   "cell_type": "code",
   "execution_count": 1,
   "metadata": {},
   "outputs": [
    {
     "name": "stdout",
     "output_type": "stream",
     "text": [
      "hello\n",
      "{0, 1, 2, 3, 4, 5, 6, 7, 8, 9}\n",
      "{'data': [], 'a': [[], [], []], 'w': [], 'h': [], 'b': []}\n"
     ]
    }
   ],
   "source": [
    "from keras.datasets import fashion_mnist\n",
    "\n",
    "(train_data, train_lebels),(test_data, test_samples) = fashion_mnist.load_data()\n",
    "unique_levels = set(train_lebels)\n",
    "print(\"hello\")\n",
    "print(unique_levels)\n",
    "\n",
    "params1 = {\"data\": [], \"a\" : [], \"w\": [], \"h\": [], \"b\": []}\n",
    "params2 = {\"data\": [], \"a\" : [], \"w\": [], \"h\": [], \"b\": []}\n",
    "\n",
    "params1[\"a\"] = [[] for i in range(3)]\n",
    "print(params1)"
   ]
  },
  {
   "cell_type": "code",
   "execution_count": null,
   "metadata": {},
   "outputs": [],
   "source": []
  },
  {
   "cell_type": "code",
   "execution_count": 1,
   "metadata": {},
   "outputs": [
    {
     "name": "stdout",
     "output_type": "stream",
     "text": [
      "hello\n"
     ]
    }
   ],
   "source": [
    "print(\"hello\")"
   ]
  }
 ],
 "metadata": {
  "kernelspec": {
   "display_name": "Python 3.8.5 64-bit",
   "language": "python",
   "name": "python3"
  },
  "language_info": {
   "codemirror_mode": {
    "name": "ipython",
    "version": 3
   },
   "file_extension": ".py",
   "mimetype": "text/x-python",
   "name": "python",
   "nbconvert_exporter": "python",
   "pygments_lexer": "ipython3",
   "version": "3.8.5"
  },
  "orig_nbformat": 4,
  "vscode": {
   "interpreter": {
    "hash": "570feb405e2e27c949193ac68f46852414290d515b0ba6e5d90d076ed2284471"
   }
  }
 },
 "nbformat": 4,
 "nbformat_minor": 2
}
